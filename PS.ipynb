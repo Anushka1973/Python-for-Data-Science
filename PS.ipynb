{
 "cells": [
  {
   "cell_type": "code",
   "execution_count": 1,
   "id": "a7beb8d9",
   "metadata": {},
   "outputs": [
    {
     "name": "stdout",
     "output_type": "stream",
     "text": [
      "Requirement already satisfied: pyspark in c:\\users\\anushka\\anaconda3\\lib\\site-packages (3.5.3)\n",
      "Requirement already satisfied: py4j==0.10.9.7 in c:\\users\\anushka\\anaconda3\\lib\\site-packages (from pyspark) (0.10.9.7)\n"
     ]
    }
   ],
   "source": [
    "!pip install pyspark"
   ]
  },
  {
   "cell_type": "code",
   "execution_count": 2,
   "id": "6ac3b0f2",
   "metadata": {},
   "outputs": [],
   "source": [
    "import pyspark"
   ]
  },
  {
   "cell_type": "code",
   "execution_count": 3,
   "id": "99523cb4",
   "metadata": {},
   "outputs": [],
   "source": [
    "import pandas as pd"
   ]
  },
  {
   "cell_type": "code",
   "execution_count": 4,
   "id": "4e85bbe3",
   "metadata": {},
   "outputs": [
    {
     "data": {
      "text/html": [
       "<div>\n",
       "<style scoped>\n",
       "    .dataframe tbody tr th:only-of-type {\n",
       "        vertical-align: middle;\n",
       "    }\n",
       "\n",
       "    .dataframe tbody tr th {\n",
       "        vertical-align: top;\n",
       "    }\n",
       "\n",
       "    .dataframe thead th {\n",
       "        text-align: right;\n",
       "    }\n",
       "</style>\n",
       "<table border=\"1\" class=\"dataframe\">\n",
       "  <thead>\n",
       "    <tr style=\"text-align: right;\">\n",
       "      <th></th>\n",
       "      <th>survived</th>\n",
       "      <th>pclass</th>\n",
       "      <th>sex</th>\n",
       "      <th>age</th>\n",
       "      <th>sibsp</th>\n",
       "      <th>parch</th>\n",
       "      <th>fare</th>\n",
       "      <th>embarked</th>\n",
       "      <th>class</th>\n",
       "      <th>who</th>\n",
       "      <th>adult_male</th>\n",
       "      <th>deck</th>\n",
       "      <th>embark_town</th>\n",
       "      <th>alive</th>\n",
       "      <th>alone</th>\n",
       "    </tr>\n",
       "  </thead>\n",
       "  <tbody>\n",
       "    <tr>\n",
       "      <th>0</th>\n",
       "      <td>0</td>\n",
       "      <td>3</td>\n",
       "      <td>male</td>\n",
       "      <td>22.0</td>\n",
       "      <td>1</td>\n",
       "      <td>0</td>\n",
       "      <td>7.2500</td>\n",
       "      <td>S</td>\n",
       "      <td>Third</td>\n",
       "      <td>man</td>\n",
       "      <td>True</td>\n",
       "      <td>NaN</td>\n",
       "      <td>Southampton</td>\n",
       "      <td>no</td>\n",
       "      <td>False</td>\n",
       "    </tr>\n",
       "    <tr>\n",
       "      <th>1</th>\n",
       "      <td>1</td>\n",
       "      <td>1</td>\n",
       "      <td>female</td>\n",
       "      <td>38.0</td>\n",
       "      <td>1</td>\n",
       "      <td>0</td>\n",
       "      <td>71.2833</td>\n",
       "      <td>C</td>\n",
       "      <td>First</td>\n",
       "      <td>woman</td>\n",
       "      <td>False</td>\n",
       "      <td>C</td>\n",
       "      <td>Cherbourg</td>\n",
       "      <td>yes</td>\n",
       "      <td>False</td>\n",
       "    </tr>\n",
       "    <tr>\n",
       "      <th>2</th>\n",
       "      <td>1</td>\n",
       "      <td>3</td>\n",
       "      <td>female</td>\n",
       "      <td>26.0</td>\n",
       "      <td>0</td>\n",
       "      <td>0</td>\n",
       "      <td>7.9250</td>\n",
       "      <td>S</td>\n",
       "      <td>Third</td>\n",
       "      <td>woman</td>\n",
       "      <td>False</td>\n",
       "      <td>NaN</td>\n",
       "      <td>Southampton</td>\n",
       "      <td>yes</td>\n",
       "      <td>True</td>\n",
       "    </tr>\n",
       "    <tr>\n",
       "      <th>3</th>\n",
       "      <td>1</td>\n",
       "      <td>1</td>\n",
       "      <td>female</td>\n",
       "      <td>35.0</td>\n",
       "      <td>1</td>\n",
       "      <td>0</td>\n",
       "      <td>53.1000</td>\n",
       "      <td>S</td>\n",
       "      <td>First</td>\n",
       "      <td>woman</td>\n",
       "      <td>False</td>\n",
       "      <td>C</td>\n",
       "      <td>Southampton</td>\n",
       "      <td>yes</td>\n",
       "      <td>False</td>\n",
       "    </tr>\n",
       "    <tr>\n",
       "      <th>4</th>\n",
       "      <td>0</td>\n",
       "      <td>3</td>\n",
       "      <td>male</td>\n",
       "      <td>35.0</td>\n",
       "      <td>0</td>\n",
       "      <td>0</td>\n",
       "      <td>8.0500</td>\n",
       "      <td>S</td>\n",
       "      <td>Third</td>\n",
       "      <td>man</td>\n",
       "      <td>True</td>\n",
       "      <td>NaN</td>\n",
       "      <td>Southampton</td>\n",
       "      <td>no</td>\n",
       "      <td>True</td>\n",
       "    </tr>\n",
       "    <tr>\n",
       "      <th>...</th>\n",
       "      <td>...</td>\n",
       "      <td>...</td>\n",
       "      <td>...</td>\n",
       "      <td>...</td>\n",
       "      <td>...</td>\n",
       "      <td>...</td>\n",
       "      <td>...</td>\n",
       "      <td>...</td>\n",
       "      <td>...</td>\n",
       "      <td>...</td>\n",
       "      <td>...</td>\n",
       "      <td>...</td>\n",
       "      <td>...</td>\n",
       "      <td>...</td>\n",
       "      <td>...</td>\n",
       "    </tr>\n",
       "    <tr>\n",
       "      <th>886</th>\n",
       "      <td>0</td>\n",
       "      <td>2</td>\n",
       "      <td>male</td>\n",
       "      <td>27.0</td>\n",
       "      <td>0</td>\n",
       "      <td>0</td>\n",
       "      <td>13.0000</td>\n",
       "      <td>S</td>\n",
       "      <td>Second</td>\n",
       "      <td>man</td>\n",
       "      <td>True</td>\n",
       "      <td>NaN</td>\n",
       "      <td>Southampton</td>\n",
       "      <td>no</td>\n",
       "      <td>True</td>\n",
       "    </tr>\n",
       "    <tr>\n",
       "      <th>887</th>\n",
       "      <td>1</td>\n",
       "      <td>1</td>\n",
       "      <td>female</td>\n",
       "      <td>19.0</td>\n",
       "      <td>0</td>\n",
       "      <td>0</td>\n",
       "      <td>30.0000</td>\n",
       "      <td>S</td>\n",
       "      <td>First</td>\n",
       "      <td>woman</td>\n",
       "      <td>False</td>\n",
       "      <td>B</td>\n",
       "      <td>Southampton</td>\n",
       "      <td>yes</td>\n",
       "      <td>True</td>\n",
       "    </tr>\n",
       "    <tr>\n",
       "      <th>888</th>\n",
       "      <td>0</td>\n",
       "      <td>3</td>\n",
       "      <td>female</td>\n",
       "      <td>NaN</td>\n",
       "      <td>1</td>\n",
       "      <td>2</td>\n",
       "      <td>23.4500</td>\n",
       "      <td>S</td>\n",
       "      <td>Third</td>\n",
       "      <td>woman</td>\n",
       "      <td>False</td>\n",
       "      <td>NaN</td>\n",
       "      <td>Southampton</td>\n",
       "      <td>no</td>\n",
       "      <td>False</td>\n",
       "    </tr>\n",
       "    <tr>\n",
       "      <th>889</th>\n",
       "      <td>1</td>\n",
       "      <td>1</td>\n",
       "      <td>male</td>\n",
       "      <td>26.0</td>\n",
       "      <td>0</td>\n",
       "      <td>0</td>\n",
       "      <td>30.0000</td>\n",
       "      <td>C</td>\n",
       "      <td>First</td>\n",
       "      <td>man</td>\n",
       "      <td>True</td>\n",
       "      <td>C</td>\n",
       "      <td>Cherbourg</td>\n",
       "      <td>yes</td>\n",
       "      <td>True</td>\n",
       "    </tr>\n",
       "    <tr>\n",
       "      <th>890</th>\n",
       "      <td>0</td>\n",
       "      <td>3</td>\n",
       "      <td>male</td>\n",
       "      <td>32.0</td>\n",
       "      <td>0</td>\n",
       "      <td>0</td>\n",
       "      <td>7.7500</td>\n",
       "      <td>Q</td>\n",
       "      <td>Third</td>\n",
       "      <td>man</td>\n",
       "      <td>True</td>\n",
       "      <td>NaN</td>\n",
       "      <td>Queenstown</td>\n",
       "      <td>no</td>\n",
       "      <td>True</td>\n",
       "    </tr>\n",
       "  </tbody>\n",
       "</table>\n",
       "<p>891 rows × 15 columns</p>\n",
       "</div>"
      ],
      "text/plain": [
       "     survived  pclass     sex   age  sibsp  parch     fare embarked   class  \\\n",
       "0           0       3    male  22.0      1      0   7.2500        S   Third   \n",
       "1           1       1  female  38.0      1      0  71.2833        C   First   \n",
       "2           1       3  female  26.0      0      0   7.9250        S   Third   \n",
       "3           1       1  female  35.0      1      0  53.1000        S   First   \n",
       "4           0       3    male  35.0      0      0   8.0500        S   Third   \n",
       "..        ...     ...     ...   ...    ...    ...      ...      ...     ...   \n",
       "886         0       2    male  27.0      0      0  13.0000        S  Second   \n",
       "887         1       1  female  19.0      0      0  30.0000        S   First   \n",
       "888         0       3  female   NaN      1      2  23.4500        S   Third   \n",
       "889         1       1    male  26.0      0      0  30.0000        C   First   \n",
       "890         0       3    male  32.0      0      0   7.7500        Q   Third   \n",
       "\n",
       "       who  adult_male deck  embark_town alive  alone  \n",
       "0      man        True  NaN  Southampton    no  False  \n",
       "1    woman       False    C    Cherbourg   yes  False  \n",
       "2    woman       False  NaN  Southampton   yes   True  \n",
       "3    woman       False    C  Southampton   yes  False  \n",
       "4      man        True  NaN  Southampton    no   True  \n",
       "..     ...         ...  ...          ...   ...    ...  \n",
       "886    man        True  NaN  Southampton    no   True  \n",
       "887  woman       False    B  Southampton   yes   True  \n",
       "888  woman       False  NaN  Southampton    no  False  \n",
       "889    man        True    C    Cherbourg   yes   True  \n",
       "890    man        True  NaN   Queenstown    no   True  \n",
       "\n",
       "[891 rows x 15 columns]"
      ]
     },
     "execution_count": 4,
     "metadata": {},
     "output_type": "execute_result"
    }
   ],
   "source": [
    "df=pd.read_csv(\"titanic.csv\")\n",
    "df"
   ]
  },
  {
   "cell_type": "code",
   "execution_count": 5,
   "id": "605f4127",
   "metadata": {},
   "outputs": [
    {
     "data": {
      "text/plain": [
       "pandas.core.frame.DataFrame"
      ]
     },
     "execution_count": 5,
     "metadata": {},
     "output_type": "execute_result"
    }
   ],
   "source": [
    "type(df)"
   ]
  },
  {
   "cell_type": "code",
   "execution_count": 4,
   "id": "df045248",
   "metadata": {},
   "outputs": [],
   "source": [
    "from pyspark.sql import SparkSession"
   ]
  },
  {
   "cell_type": "code",
   "execution_count": 5,
   "id": "4730a1fd",
   "metadata": {},
   "outputs": [],
   "source": [
    "spark=SparkSession.builder.appName('Practice').getOrCreate()"
   ]
  },
  {
   "cell_type": "code",
   "execution_count": 8,
   "id": "f0baf3cd",
   "metadata": {
    "scrolled": true
   },
   "outputs": [
    {
     "data": {
      "text/html": [
       "\n",
       "            <div>\n",
       "                <p><b>SparkSession - in-memory</b></p>\n",
       "                \n",
       "        <div>\n",
       "            <p><b>SparkContext</b></p>\n",
       "\n",
       "            <p><a href=\"http://DESKTOP-GSOUFU5:4040\">Spark UI</a></p>\n",
       "\n",
       "            <dl>\n",
       "              <dt>Version</dt>\n",
       "                <dd><code>v3.5.3</code></dd>\n",
       "              <dt>Master</dt>\n",
       "                <dd><code>local[*]</code></dd>\n",
       "              <dt>AppName</dt>\n",
       "                <dd><code>Practice</code></dd>\n",
       "            </dl>\n",
       "        </div>\n",
       "        \n",
       "            </div>\n",
       "        "
      ],
      "text/plain": [
       "<pyspark.sql.session.SparkSession at 0x2075d3d2390>"
      ]
     },
     "execution_count": 8,
     "metadata": {},
     "output_type": "execute_result"
    }
   ],
   "source": [
    "spark"
   ]
  },
  {
   "cell_type": "code",
   "execution_count": 9,
   "id": "59c9c7ac",
   "metadata": {},
   "outputs": [],
   "source": [
    "df_pyspark=spark.read.csv('titanic.csv')"
   ]
  },
  {
   "cell_type": "code",
   "execution_count": 10,
   "id": "cf496843",
   "metadata": {},
   "outputs": [
    {
     "data": {
      "text/plain": [
       "DataFrame[_c0: string, _c1: string, _c2: string, _c3: string, _c4: string, _c5: string, _c6: string, _c7: string, _c8: string, _c9: string, _c10: string, _c11: string, _c12: string, _c13: string, _c14: string]"
      ]
     },
     "execution_count": 10,
     "metadata": {},
     "output_type": "execute_result"
    }
   ],
   "source": [
    "df_pyspark"
   ]
  },
  {
   "cell_type": "code",
   "execution_count": 11,
   "id": "370c5714",
   "metadata": {},
   "outputs": [
    {
     "name": "stdout",
     "output_type": "stream",
     "text": [
      "+--------+------+------+----+-----+-----+-------+--------+------+-----+----------+----+-----------+-----+-----+\n",
      "|     _c0|   _c1|   _c2| _c3|  _c4|  _c5|    _c6|     _c7|   _c8|  _c9|      _c10|_c11|       _c12| _c13| _c14|\n",
      "+--------+------+------+----+-----+-----+-------+--------+------+-----+----------+----+-----------+-----+-----+\n",
      "|survived|pclass|   sex| age|sibsp|parch|   fare|embarked| class|  who|adult_male|deck|embark_town|alive|alone|\n",
      "|       0|     3|  male|22.0|    1|    0|   7.25|       S| Third|  man|      True|NULL|Southampton|   no|False|\n",
      "|       1|     1|female|38.0|    1|    0|71.2833|       C| First|woman|     False|   C|  Cherbourg|  yes|False|\n",
      "|       1|     3|female|26.0|    0|    0|  7.925|       S| Third|woman|     False|NULL|Southampton|  yes| True|\n",
      "|       1|     1|female|35.0|    1|    0|   53.1|       S| First|woman|     False|   C|Southampton|  yes|False|\n",
      "|       0|     3|  male|35.0|    0|    0|   8.05|       S| Third|  man|      True|NULL|Southampton|   no| True|\n",
      "|       0|     3|  male|NULL|    0|    0| 8.4583|       Q| Third|  man|      True|NULL| Queenstown|   no| True|\n",
      "|       0|     1|  male|54.0|    0|    0|51.8625|       S| First|  man|      True|   E|Southampton|   no| True|\n",
      "|       0|     3|  male| 2.0|    3|    1| 21.075|       S| Third|child|     False|NULL|Southampton|   no|False|\n",
      "|       1|     3|female|27.0|    0|    2|11.1333|       S| Third|woman|     False|NULL|Southampton|  yes|False|\n",
      "|       1|     2|female|14.0|    1|    0|30.0708|       C|Second|child|     False|NULL|  Cherbourg|  yes|False|\n",
      "|       1|     3|female| 4.0|    1|    1|   16.7|       S| Third|child|     False|   G|Southampton|  yes|False|\n",
      "|       1|     1|female|58.0|    0|    0|  26.55|       S| First|woman|     False|   C|Southampton|  yes| True|\n",
      "|       0|     3|  male|20.0|    0|    0|   8.05|       S| Third|  man|      True|NULL|Southampton|   no| True|\n",
      "|       0|     3|  male|39.0|    1|    5| 31.275|       S| Third|  man|      True|NULL|Southampton|   no|False|\n",
      "|       0|     3|female|14.0|    0|    0| 7.8542|       S| Third|child|     False|NULL|Southampton|   no| True|\n",
      "|       1|     2|female|55.0|    0|    0|   16.0|       S|Second|woman|     False|NULL|Southampton|  yes| True|\n",
      "|       0|     3|  male| 2.0|    4|    1| 29.125|       Q| Third|child|     False|NULL| Queenstown|   no|False|\n",
      "|       1|     2|  male|NULL|    0|    0|   13.0|       S|Second|  man|      True|NULL|Southampton|  yes| True|\n",
      "|       0|     3|female|31.0|    1|    0|   18.0|       S| Third|woman|     False|NULL|Southampton|   no|False|\n",
      "+--------+------+------+----+-----+-----+-------+--------+------+-----+----------+----+-----------+-----+-----+\n",
      "only showing top 20 rows\n",
      "\n"
     ]
    }
   ],
   "source": [
    "df_pyspark.show()"
   ]
  },
  {
   "cell_type": "code",
   "execution_count": 12,
   "id": "41665c26",
   "metadata": {},
   "outputs": [],
   "source": [
    "df_pyspark=spark.read.option('header','True').csv('titanic.csv',inferSchema=True)"
   ]
  },
  {
   "cell_type": "code",
   "execution_count": 13,
   "id": "dee788b9",
   "metadata": {},
   "outputs": [
    {
     "data": {
      "text/plain": [
       "pyspark.sql.dataframe.DataFrame"
      ]
     },
     "execution_count": 13,
     "metadata": {},
     "output_type": "execute_result"
    }
   ],
   "source": [
    "type(df_pyspark)"
   ]
  },
  {
   "cell_type": "code",
   "execution_count": 14,
   "id": "57745019",
   "metadata": {},
   "outputs": [
    {
     "data": {
      "text/plain": [
       "Row(survived=0, pclass=3, sex='male', age=22.0, sibsp=1, parch=0, fare=7.25, embarked='S', class='Third', who='man', adult_male=True, deck=None, embark_town='Southampton', alive='no', alone=False)"
      ]
     },
     "execution_count": 14,
     "metadata": {},
     "output_type": "execute_result"
    }
   ],
   "source": [
    "df_pyspark.head()"
   ]
  },
  {
   "cell_type": "code",
   "execution_count": 15,
   "id": "ab59fe7a",
   "metadata": {},
   "outputs": [
    {
     "name": "stdout",
     "output_type": "stream",
     "text": [
      "root\n",
      " |-- survived: integer (nullable = true)\n",
      " |-- pclass: integer (nullable = true)\n",
      " |-- sex: string (nullable = true)\n",
      " |-- age: double (nullable = true)\n",
      " |-- sibsp: integer (nullable = true)\n",
      " |-- parch: integer (nullable = true)\n",
      " |-- fare: double (nullable = true)\n",
      " |-- embarked: string (nullable = true)\n",
      " |-- class: string (nullable = true)\n",
      " |-- who: string (nullable = true)\n",
      " |-- adult_male: boolean (nullable = true)\n",
      " |-- deck: string (nullable = true)\n",
      " |-- embark_town: string (nullable = true)\n",
      " |-- alive: string (nullable = true)\n",
      " |-- alone: boolean (nullable = true)\n",
      "\n"
     ]
    }
   ],
   "source": [
    "df_pyspark.printSchema()"
   ]
  },
  {
   "cell_type": "code",
   "execution_count": 16,
   "id": "d0ea8139",
   "metadata": {},
   "outputs": [],
   "source": [
    "# from pyspark.sql import SparkSession\n",
    "# spark=SparkSession.builder.appName('Practice').getOrCreate()\n",
    "# spark\n",
    "# df_s=spark.read.option('header','True').csv('titanic.csv')\n",
    "# df_s.show()"
   ]
  },
  {
   "cell_type": "code",
   "execution_count": 17,
   "id": "1903e241",
   "metadata": {},
   "outputs": [
    {
     "name": "stdout",
     "output_type": "stream",
     "text": [
      "+--------+------+------+----+-----+-----+-------+--------+------+-----+----------+----+-----------+-----+-----+\n",
      "|survived|pclass|   sex| age|sibsp|parch|   fare|embarked| class|  who|adult_male|deck|embark_town|alive|alone|\n",
      "+--------+------+------+----+-----+-----+-------+--------+------+-----+----------+----+-----------+-----+-----+\n",
      "|       0|     3|  male|22.0|    1|    0|   7.25|       S| Third|  man|      true|NULL|Southampton|   no|false|\n",
      "|       1|     1|female|38.0|    1|    0|71.2833|       C| First|woman|     false|   C|  Cherbourg|  yes|false|\n",
      "|       1|     3|female|26.0|    0|    0|  7.925|       S| Third|woman|     false|NULL|Southampton|  yes| true|\n",
      "|       1|     1|female|35.0|    1|    0|   53.1|       S| First|woman|     false|   C|Southampton|  yes|false|\n",
      "|       0|     3|  male|35.0|    0|    0|   8.05|       S| Third|  man|      true|NULL|Southampton|   no| true|\n",
      "|       0|     3|  male|NULL|    0|    0| 8.4583|       Q| Third|  man|      true|NULL| Queenstown|   no| true|\n",
      "|       0|     1|  male|54.0|    0|    0|51.8625|       S| First|  man|      true|   E|Southampton|   no| true|\n",
      "|       0|     3|  male| 2.0|    3|    1| 21.075|       S| Third|child|     false|NULL|Southampton|   no|false|\n",
      "|       1|     3|female|27.0|    0|    2|11.1333|       S| Third|woman|     false|NULL|Southampton|  yes|false|\n",
      "|       1|     2|female|14.0|    1|    0|30.0708|       C|Second|child|     false|NULL|  Cherbourg|  yes|false|\n",
      "|       1|     3|female| 4.0|    1|    1|   16.7|       S| Third|child|     false|   G|Southampton|  yes|false|\n",
      "|       1|     1|female|58.0|    0|    0|  26.55|       S| First|woman|     false|   C|Southampton|  yes| true|\n",
      "|       0|     3|  male|20.0|    0|    0|   8.05|       S| Third|  man|      true|NULL|Southampton|   no| true|\n",
      "|       0|     3|  male|39.0|    1|    5| 31.275|       S| Third|  man|      true|NULL|Southampton|   no|false|\n",
      "|       0|     3|female|14.0|    0|    0| 7.8542|       S| Third|child|     false|NULL|Southampton|   no| true|\n",
      "|       1|     2|female|55.0|    0|    0|   16.0|       S|Second|woman|     false|NULL|Southampton|  yes| true|\n",
      "|       0|     3|  male| 2.0|    4|    1| 29.125|       Q| Third|child|     false|NULL| Queenstown|   no|false|\n",
      "|       1|     2|  male|NULL|    0|    0|   13.0|       S|Second|  man|      true|NULL|Southampton|  yes| true|\n",
      "|       0|     3|female|31.0|    1|    0|   18.0|       S| Third|woman|     false|NULL|Southampton|   no|false|\n",
      "|       1|     3|female|NULL|    0|    0|  7.225|       C| Third|woman|     false|NULL|  Cherbourg|  yes| true|\n",
      "+--------+------+------+----+-----+-----+-------+--------+------+-----+----------+----+-----------+-----+-----+\n",
      "only showing top 20 rows\n",
      "\n"
     ]
    }
   ],
   "source": [
    "df_pyspark=spark.read.csv('titanic.csv',header=True,inferSchema=True)\n",
    "df_pyspark.show()"
   ]
  },
  {
   "cell_type": "code",
   "execution_count": 18,
   "id": "ba7010dc",
   "metadata": {},
   "outputs": [
    {
     "data": {
      "text/plain": [
       "['survived',\n",
       " 'pclass',\n",
       " 'sex',\n",
       " 'age',\n",
       " 'sibsp',\n",
       " 'parch',\n",
       " 'fare',\n",
       " 'embarked',\n",
       " 'class',\n",
       " 'who',\n",
       " 'adult_male',\n",
       " 'deck',\n",
       " 'embark_town',\n",
       " 'alive',\n",
       " 'alone']"
      ]
     },
     "execution_count": 18,
     "metadata": {},
     "output_type": "execute_result"
    }
   ],
   "source": [
    "#checking the datatype of the columns\n",
    "\n",
    "df_pyspark.columns #for getting each column names in dataset"
   ]
  },
  {
   "cell_type": "code",
   "execution_count": 19,
   "id": "be3936fb",
   "metadata": {},
   "outputs": [
    {
     "name": "stdout",
     "output_type": "stream",
     "text": [
      "+----+\n",
      "| age|\n",
      "+----+\n",
      "|22.0|\n",
      "|38.0|\n",
      "|26.0|\n",
      "|35.0|\n",
      "|35.0|\n",
      "|NULL|\n",
      "|54.0|\n",
      "| 2.0|\n",
      "|27.0|\n",
      "|14.0|\n",
      "| 4.0|\n",
      "|58.0|\n",
      "|20.0|\n",
      "|39.0|\n",
      "|14.0|\n",
      "|55.0|\n",
      "| 2.0|\n",
      "|NULL|\n",
      "|31.0|\n",
      "|NULL|\n",
      "+----+\n",
      "only showing top 20 rows\n",
      "\n"
     ]
    }
   ],
   "source": [
    "# selecting particular column\n",
    "df_pyspark.select('age').show()"
   ]
  },
  {
   "cell_type": "code",
   "execution_count": 20,
   "id": "88231628",
   "metadata": {},
   "outputs": [
    {
     "name": "stdout",
     "output_type": "stream",
     "text": [
      "+----+------+\n",
      "| age|   sex|\n",
      "+----+------+\n",
      "|22.0|  male|\n",
      "|38.0|female|\n",
      "|26.0|female|\n",
      "|35.0|female|\n",
      "|35.0|  male|\n",
      "|NULL|  male|\n",
      "|54.0|  male|\n",
      "| 2.0|  male|\n",
      "|27.0|female|\n",
      "|14.0|female|\n",
      "| 4.0|female|\n",
      "|58.0|female|\n",
      "|20.0|  male|\n",
      "|39.0|  male|\n",
      "|14.0|female|\n",
      "|55.0|female|\n",
      "| 2.0|  male|\n",
      "|NULL|  male|\n",
      "|31.0|female|\n",
      "|NULL|female|\n",
      "+----+------+\n",
      "only showing top 20 rows\n",
      "\n"
     ]
    }
   ],
   "source": [
    "df_pyspark.select(['age','sex']).show()"
   ]
  },
  {
   "cell_type": "code",
   "execution_count": 21,
   "id": "6e9ebd18",
   "metadata": {},
   "outputs": [
    {
     "data": {
      "text/plain": [
       "Column<'age'>"
      ]
     },
     "execution_count": 21,
     "metadata": {},
     "output_type": "execute_result"
    }
   ],
   "source": [
    "df_pyspark['age']"
   ]
  },
  {
   "cell_type": "code",
   "execution_count": 22,
   "id": "93d813bb",
   "metadata": {},
   "outputs": [
    {
     "data": {
      "text/plain": [
       "[('survived', 'int'),\n",
       " ('pclass', 'int'),\n",
       " ('sex', 'string'),\n",
       " ('age', 'double'),\n",
       " ('sibsp', 'int'),\n",
       " ('parch', 'int'),\n",
       " ('fare', 'double'),\n",
       " ('embarked', 'string'),\n",
       " ('class', 'string'),\n",
       " ('who', 'string'),\n",
       " ('adult_male', 'boolean'),\n",
       " ('deck', 'string'),\n",
       " ('embark_town', 'string'),\n",
       " ('alive', 'string'),\n",
       " ('alone', 'boolean')]"
      ]
     },
     "execution_count": 22,
     "metadata": {},
     "output_type": "execute_result"
    }
   ],
   "source": [
    "df_pyspark.dtypes"
   ]
  },
  {
   "cell_type": "code",
   "execution_count": 23,
   "id": "2662bb87",
   "metadata": {},
   "outputs": [
    {
     "name": "stdout",
     "output_type": "stream",
     "text": [
      "+-------+-------------------+------------------+------+------------------+------------------+-------------------+-----------------+--------+-----+-----+----+-----------+-----+\n",
      "|summary|           survived|            pclass|   sex|               age|             sibsp|              parch|             fare|embarked|class|  who|deck|embark_town|alive|\n",
      "+-------+-------------------+------------------+------+------------------+------------------+-------------------+-----------------+--------+-----+-----+----+-----------+-----+\n",
      "|  count|                891|               891|   891|               714|               891|                891|              891|     889|  891|  891| 203|        889|  891|\n",
      "|   mean| 0.3838383838383838| 2.308641975308642|  NULL| 29.69911764705882|0.5230078563411896|0.38159371492704824| 32.2042079685746|    NULL| NULL| NULL|NULL|       NULL| NULL|\n",
      "| stddev|0.48659245426485753|0.8360712409770491|  NULL|14.526497332334035|1.1027434322934315| 0.8060572211299488|49.69342859718089|    NULL| NULL| NULL|NULL|       NULL| NULL|\n",
      "|    min|                  0|                 1|female|              0.42|                 0|                  0|              0.0|       C|First|child|   A|  Cherbourg|   no|\n",
      "|    max|                  1|                 3|  male|              80.0|                 8|                  6|         512.3292|       S|Third|woman|   G|Southampton|  yes|\n",
      "+-------+-------------------+------------------+------+------------------+------------------+-------------------+-----------------+--------+-----+-----+----+-----------+-----+\n",
      "\n"
     ]
    }
   ],
   "source": [
    "df_pyspark.describe().show()"
   ]
  },
  {
   "cell_type": "code",
   "execution_count": 24,
   "id": "69e59d5d",
   "metadata": {},
   "outputs": [
    {
     "name": "stdout",
     "output_type": "stream",
     "text": [
      "+--------+------+------+----+-----+-----+-------+--------+------+-----+----------+----+-----------+-----+-----+----------+\n",
      "|survived|pclass|   sex| age|sibsp|parch|   fare|embarked| class|  who|adult_male|deck|embark_town|alive|alone|age in yrs|\n",
      "+--------+------+------+----+-----+-----+-------+--------+------+-----+----------+----+-----------+-----+-----+----------+\n",
      "|       0|     3|  male|22.0|    1|    0|   7.25|       S| Third|  man|      true|NULL|Southampton|   no|false|      23.0|\n",
      "|       1|     1|female|38.0|    1|    0|71.2833|       C| First|woman|     false|   C|  Cherbourg|  yes|false|      39.0|\n",
      "|       1|     3|female|26.0|    0|    0|  7.925|       S| Third|woman|     false|NULL|Southampton|  yes| true|      27.0|\n",
      "|       1|     1|female|35.0|    1|    0|   53.1|       S| First|woman|     false|   C|Southampton|  yes|false|      36.0|\n",
      "|       0|     3|  male|35.0|    0|    0|   8.05|       S| Third|  man|      true|NULL|Southampton|   no| true|      36.0|\n",
      "|       0|     3|  male|NULL|    0|    0| 8.4583|       Q| Third|  man|      true|NULL| Queenstown|   no| true|      NULL|\n",
      "|       0|     1|  male|54.0|    0|    0|51.8625|       S| First|  man|      true|   E|Southampton|   no| true|      55.0|\n",
      "|       0|     3|  male| 2.0|    3|    1| 21.075|       S| Third|child|     false|NULL|Southampton|   no|false|       3.0|\n",
      "|       1|     3|female|27.0|    0|    2|11.1333|       S| Third|woman|     false|NULL|Southampton|  yes|false|      28.0|\n",
      "|       1|     2|female|14.0|    1|    0|30.0708|       C|Second|child|     false|NULL|  Cherbourg|  yes|false|      15.0|\n",
      "|       1|     3|female| 4.0|    1|    1|   16.7|       S| Third|child|     false|   G|Southampton|  yes|false|       5.0|\n",
      "|       1|     1|female|58.0|    0|    0|  26.55|       S| First|woman|     false|   C|Southampton|  yes| true|      59.0|\n",
      "|       0|     3|  male|20.0|    0|    0|   8.05|       S| Third|  man|      true|NULL|Southampton|   no| true|      21.0|\n",
      "|       0|     3|  male|39.0|    1|    5| 31.275|       S| Third|  man|      true|NULL|Southampton|   no|false|      40.0|\n",
      "|       0|     3|female|14.0|    0|    0| 7.8542|       S| Third|child|     false|NULL|Southampton|   no| true|      15.0|\n",
      "|       1|     2|female|55.0|    0|    0|   16.0|       S|Second|woman|     false|NULL|Southampton|  yes| true|      56.0|\n",
      "|       0|     3|  male| 2.0|    4|    1| 29.125|       Q| Third|child|     false|NULL| Queenstown|   no|false|       3.0|\n",
      "|       1|     2|  male|NULL|    0|    0|   13.0|       S|Second|  man|      true|NULL|Southampton|  yes| true|      NULL|\n",
      "|       0|     3|female|31.0|    1|    0|   18.0|       S| Third|woman|     false|NULL|Southampton|   no|false|      32.0|\n",
      "|       1|     3|female|NULL|    0|    0|  7.225|       C| Third|woman|     false|NULL|  Cherbourg|  yes| true|      NULL|\n",
      "+--------+------+------+----+-----+-----+-------+--------+------+-----+----------+----+-----------+-----+-----+----------+\n",
      "only showing top 20 rows\n",
      "\n"
     ]
    }
   ],
   "source": [
    "# adding columns in data frame\n",
    "df_pyspark.withColumn('age in yrs',df_pyspark['age']+1).show()"
   ]
  },
  {
   "cell_type": "code",
   "execution_count": 25,
   "id": "8f3116ce",
   "metadata": {},
   "outputs": [
    {
     "data": {
      "text/plain": [
       "DataFrame[survived: int, pclass: int, sex: string, age: double, sibsp: int, parch: int, fare: double, embarked: string, class: string, who: string, adult_male: boolean, deck: string, embark_town: string, alive: string, alone: boolean]"
      ]
     },
     "execution_count": 25,
     "metadata": {},
     "output_type": "execute_result"
    }
   ],
   "source": [
    "## drop the columns\n",
    "df_pyspark.drop('age in yrs')"
   ]
  },
  {
   "cell_type": "code",
   "execution_count": 26,
   "id": "660b2fd4",
   "metadata": {},
   "outputs": [
    {
     "name": "stdout",
     "output_type": "stream",
     "text": [
      "+--------+------+------+----+-----+-----+-------+--------+------+-----+----------+----+-----------+-----+-----+\n",
      "|survived|pclass|   sex| age|sibsp|parch|   fare|embarked| class|  who|adult_male|deck|embark_town|alive|alone|\n",
      "+--------+------+------+----+-----+-----+-------+--------+------+-----+----------+----+-----------+-----+-----+\n",
      "|       0|     3|  male|22.0|    1|    0|   7.25|       S| Third|  man|      true|NULL|Southampton|   no|false|\n",
      "|       1|     1|female|38.0|    1|    0|71.2833|       C| First|woman|     false|   C|  Cherbourg|  yes|false|\n",
      "|       1|     3|female|26.0|    0|    0|  7.925|       S| Third|woman|     false|NULL|Southampton|  yes| true|\n",
      "|       1|     1|female|35.0|    1|    0|   53.1|       S| First|woman|     false|   C|Southampton|  yes|false|\n",
      "|       0|     3|  male|35.0|    0|    0|   8.05|       S| Third|  man|      true|NULL|Southampton|   no| true|\n",
      "|       0|     3|  male|NULL|    0|    0| 8.4583|       Q| Third|  man|      true|NULL| Queenstown|   no| true|\n",
      "|       0|     1|  male|54.0|    0|    0|51.8625|       S| First|  man|      true|   E|Southampton|   no| true|\n",
      "|       0|     3|  male| 2.0|    3|    1| 21.075|       S| Third|child|     false|NULL|Southampton|   no|false|\n",
      "|       1|     3|female|27.0|    0|    2|11.1333|       S| Third|woman|     false|NULL|Southampton|  yes|false|\n",
      "|       1|     2|female|14.0|    1|    0|30.0708|       C|Second|child|     false|NULL|  Cherbourg|  yes|false|\n",
      "|       1|     3|female| 4.0|    1|    1|   16.7|       S| Third|child|     false|   G|Southampton|  yes|false|\n",
      "|       1|     1|female|58.0|    0|    0|  26.55|       S| First|woman|     false|   C|Southampton|  yes| true|\n",
      "|       0|     3|  male|20.0|    0|    0|   8.05|       S| Third|  man|      true|NULL|Southampton|   no| true|\n",
      "|       0|     3|  male|39.0|    1|    5| 31.275|       S| Third|  man|      true|NULL|Southampton|   no|false|\n",
      "|       0|     3|female|14.0|    0|    0| 7.8542|       S| Third|child|     false|NULL|Southampton|   no| true|\n",
      "|       1|     2|female|55.0|    0|    0|   16.0|       S|Second|woman|     false|NULL|Southampton|  yes| true|\n",
      "|       0|     3|  male| 2.0|    4|    1| 29.125|       Q| Third|child|     false|NULL| Queenstown|   no|false|\n",
      "|       1|     2|  male|NULL|    0|    0|   13.0|       S|Second|  man|      true|NULL|Southampton|  yes| true|\n",
      "|       0|     3|female|31.0|    1|    0|   18.0|       S| Third|woman|     false|NULL|Southampton|   no|false|\n",
      "|       1|     3|female|NULL|    0|    0|  7.225|       C| Third|woman|     false|NULL|  Cherbourg|  yes| true|\n",
      "+--------+------+------+----+-----+-----+-------+--------+------+-----+----------+----+-----------+-----+-----+\n",
      "only showing top 20 rows\n",
      "\n"
     ]
    }
   ],
   "source": [
    "df_pyspark.show()\n"
   ]
  },
  {
   "cell_type": "code",
   "execution_count": 27,
   "id": "303e2211",
   "metadata": {},
   "outputs": [
    {
     "name": "stdout",
     "output_type": "stream",
     "text": [
      "+--------+------+------+----+-----+-----+-------+--------+------+-----+----------+----+-----------+-----+-----+\n",
      "|survived|pclass|   sex| Age|sibsp|parch|   fare|embarked| class|  who|adult_male|deck|embark_town|alive|alone|\n",
      "+--------+------+------+----+-----+-----+-------+--------+------+-----+----------+----+-----------+-----+-----+\n",
      "|       0|     3|  male|22.0|    1|    0|   7.25|       S| Third|  man|      true|NULL|Southampton|   no|false|\n",
      "|       1|     1|female|38.0|    1|    0|71.2833|       C| First|woman|     false|   C|  Cherbourg|  yes|false|\n",
      "|       1|     3|female|26.0|    0|    0|  7.925|       S| Third|woman|     false|NULL|Southampton|  yes| true|\n",
      "|       1|     1|female|35.0|    1|    0|   53.1|       S| First|woman|     false|   C|Southampton|  yes|false|\n",
      "|       0|     3|  male|35.0|    0|    0|   8.05|       S| Third|  man|      true|NULL|Southampton|   no| true|\n",
      "|       0|     3|  male|NULL|    0|    0| 8.4583|       Q| Third|  man|      true|NULL| Queenstown|   no| true|\n",
      "|       0|     1|  male|54.0|    0|    0|51.8625|       S| First|  man|      true|   E|Southampton|   no| true|\n",
      "|       0|     3|  male| 2.0|    3|    1| 21.075|       S| Third|child|     false|NULL|Southampton|   no|false|\n",
      "|       1|     3|female|27.0|    0|    2|11.1333|       S| Third|woman|     false|NULL|Southampton|  yes|false|\n",
      "|       1|     2|female|14.0|    1|    0|30.0708|       C|Second|child|     false|NULL|  Cherbourg|  yes|false|\n",
      "|       1|     3|female| 4.0|    1|    1|   16.7|       S| Third|child|     false|   G|Southampton|  yes|false|\n",
      "|       1|     1|female|58.0|    0|    0|  26.55|       S| First|woman|     false|   C|Southampton|  yes| true|\n",
      "|       0|     3|  male|20.0|    0|    0|   8.05|       S| Third|  man|      true|NULL|Southampton|   no| true|\n",
      "|       0|     3|  male|39.0|    1|    5| 31.275|       S| Third|  man|      true|NULL|Southampton|   no|false|\n",
      "|       0|     3|female|14.0|    0|    0| 7.8542|       S| Third|child|     false|NULL|Southampton|   no| true|\n",
      "|       1|     2|female|55.0|    0|    0|   16.0|       S|Second|woman|     false|NULL|Southampton|  yes| true|\n",
      "|       0|     3|  male| 2.0|    4|    1| 29.125|       Q| Third|child|     false|NULL| Queenstown|   no|false|\n",
      "|       1|     2|  male|NULL|    0|    0|   13.0|       S|Second|  man|      true|NULL|Southampton|  yes| true|\n",
      "|       0|     3|female|31.0|    1|    0|   18.0|       S| Third|woman|     false|NULL|Southampton|   no|false|\n",
      "|       1|     3|female|NULL|    0|    0|  7.225|       C| Third|woman|     false|NULL|  Cherbourg|  yes| true|\n",
      "+--------+------+------+----+-----+-----+-------+--------+------+-----+----------+----+-----------+-----+-----+\n",
      "only showing top 20 rows\n",
      "\n"
     ]
    }
   ],
   "source": [
    "# rename columns\n",
    "df_pyspark=df_pyspark.withColumnRenamed('age','Age')\n",
    "df_pyspark.show()\n"
   ]
  },
  {
   "cell_type": "code",
   "execution_count": 28,
   "id": "b89b4fbc",
   "metadata": {},
   "outputs": [
    {
     "name": "stdout",
     "output_type": "stream",
     "text": [
      "+--------+------+------+----+-----+-----+--------+--------+------+-----+----------+----+-----------+-----+-----+\n",
      "|survived|pclass|   sex| Age|sibsp|parch|    fare|embarked| class|  who|adult_male|deck|embark_town|alive|alone|\n",
      "+--------+------+------+----+-----+-----+--------+--------+------+-----+----------+----+-----------+-----+-----+\n",
      "|       1|     1|female|38.0|    1|    0| 71.2833|       C| First|woman|     false|   C|  Cherbourg|  yes|false|\n",
      "|       1|     1|female|35.0|    1|    0|    53.1|       S| First|woman|     false|   C|Southampton|  yes|false|\n",
      "|       0|     1|  male|54.0|    0|    0| 51.8625|       S| First|  man|      true|   E|Southampton|   no| true|\n",
      "|       1|     3|female| 4.0|    1|    1|    16.7|       S| Third|child|     false|   G|Southampton|  yes|false|\n",
      "|       1|     1|female|58.0|    0|    0|   26.55|       S| First|woman|     false|   C|Southampton|  yes| true|\n",
      "|       1|     2|  male|34.0|    0|    0|    13.0|       S|Second|  man|      true|   D|Southampton|  yes| true|\n",
      "|       1|     1|  male|28.0|    0|    0|    35.5|       S| First|  man|      true|   A|Southampton|  yes| true|\n",
      "|       0|     1|  male|19.0|    3|    2|   263.0|       S| First|  man|      true|   C|Southampton|   no|false|\n",
      "|       1|     1|female|49.0|    1|    0| 76.7292|       C| First|woman|     false|   D|  Cherbourg|  yes|false|\n",
      "|       0|     1|  male|65.0|    0|    1| 61.9792|       C| First|  man|      true|   B|  Cherbourg|   no|false|\n",
      "|       0|     1|  male|45.0|    1|    0|  83.475|       S| First|  man|      true|   C|Southampton|   no|false|\n",
      "|       1|     2|female|29.0|    0|    0|    10.5|       S|Second|woman|     false|   F|Southampton|  yes| true|\n",
      "|       0|     3|  male|25.0|    0|    0|    7.65|       S| Third|  man|      true|   F|Southampton|   no| true|\n",
      "|       1|     1|female|23.0|    3|    2|   263.0|       S| First|woman|     false|   C|Southampton|  yes|false|\n",
      "|       0|     1|  male|46.0|    1|    0|  61.175|       S| First|  man|      true|   E|Southampton|   no|false|\n",
      "|       0|     1|  male|71.0|    0|    0| 34.6542|       C| First|  man|      true|   A|  Cherbourg|   no| true|\n",
      "|       1|     1|  male|23.0|    0|    1| 63.3583|       C| First|  man|      true|   D|  Cherbourg|  yes|false|\n",
      "|       0|     1|  male|21.0|    0|    1| 77.2875|       S| First|  man|      true|   D|Southampton|   no|false|\n",
      "|       0|     1|  male|47.0|    0|    0|    52.0|       S| First|  man|      true|   C|Southampton|   no| true|\n",
      "|       0|     1|  male|24.0|    0|    1|247.5208|       C| First|  man|      true|   B|  Cherbourg|   no|false|\n",
      "+--------+------+------+----+-----+-----+--------+--------+------+-----+----------+----+-----------+-----+-----+\n",
      "only showing top 20 rows\n",
      "\n"
     ]
    }
   ],
   "source": [
    "#dropping rows\n",
    "df_pyspark.na.drop().show() #deletes all the rows with null value"
   ]
  },
  {
   "cell_type": "code",
   "execution_count": 29,
   "id": "f0ff018b",
   "metadata": {},
   "outputs": [
    {
     "name": "stdout",
     "output_type": "stream",
     "text": [
      "+--------+------+------+----+-----+-----+--------+--------+------+-----+----------+----+-----------+-----+-----+\n",
      "|survived|pclass|   sex| Age|sibsp|parch|    fare|embarked| class|  who|adult_male|deck|embark_town|alive|alone|\n",
      "+--------+------+------+----+-----+-----+--------+--------+------+-----+----------+----+-----------+-----+-----+\n",
      "|       1|     1|female|38.0|    1|    0| 71.2833|       C| First|woman|     false|   C|  Cherbourg|  yes|false|\n",
      "|       1|     1|female|35.0|    1|    0|    53.1|       S| First|woman|     false|   C|Southampton|  yes|false|\n",
      "|       0|     1|  male|54.0|    0|    0| 51.8625|       S| First|  man|      true|   E|Southampton|   no| true|\n",
      "|       1|     3|female| 4.0|    1|    1|    16.7|       S| Third|child|     false|   G|Southampton|  yes|false|\n",
      "|       1|     1|female|58.0|    0|    0|   26.55|       S| First|woman|     false|   C|Southampton|  yes| true|\n",
      "|       1|     2|  male|34.0|    0|    0|    13.0|       S|Second|  man|      true|   D|Southampton|  yes| true|\n",
      "|       1|     1|  male|28.0|    0|    0|    35.5|       S| First|  man|      true|   A|Southampton|  yes| true|\n",
      "|       0|     1|  male|19.0|    3|    2|   263.0|       S| First|  man|      true|   C|Southampton|   no|false|\n",
      "|       1|     1|female|49.0|    1|    0| 76.7292|       C| First|woman|     false|   D|  Cherbourg|  yes|false|\n",
      "|       0|     1|  male|65.0|    0|    1| 61.9792|       C| First|  man|      true|   B|  Cherbourg|   no|false|\n",
      "|       0|     1|  male|45.0|    1|    0|  83.475|       S| First|  man|      true|   C|Southampton|   no|false|\n",
      "|       1|     2|female|29.0|    0|    0|    10.5|       S|Second|woman|     false|   F|Southampton|  yes| true|\n",
      "|       0|     3|  male|25.0|    0|    0|    7.65|       S| Third|  man|      true|   F|Southampton|   no| true|\n",
      "|       1|     1|female|23.0|    3|    2|   263.0|       S| First|woman|     false|   C|Southampton|  yes|false|\n",
      "|       0|     1|  male|46.0|    1|    0|  61.175|       S| First|  man|      true|   E|Southampton|   no|false|\n",
      "|       0|     1|  male|71.0|    0|    0| 34.6542|       C| First|  man|      true|   A|  Cherbourg|   no| true|\n",
      "|       1|     1|  male|23.0|    0|    1| 63.3583|       C| First|  man|      true|   D|  Cherbourg|  yes|false|\n",
      "|       0|     1|  male|21.0|    0|    1| 77.2875|       S| First|  man|      true|   D|Southampton|   no|false|\n",
      "|       0|     1|  male|47.0|    0|    0|    52.0|       S| First|  man|      true|   C|Southampton|   no| true|\n",
      "|       0|     1|  male|24.0|    0|    1|247.5208|       C| First|  man|      true|   B|  Cherbourg|   no|false|\n",
      "+--------+------+------+----+-----+-----+--------+--------+------+-----+----------+----+-----------+-----+-----+\n",
      "only showing top 20 rows\n",
      "\n"
     ]
    }
   ],
   "source": [
    "## any==how\n",
    "df_pyspark.na.drop(how='any').show()"
   ]
  },
  {
   "cell_type": "code",
   "execution_count": 30,
   "id": "8d5926d5",
   "metadata": {},
   "outputs": [
    {
     "name": "stdout",
     "output_type": "stream",
     "text": [
      "+--------+------+------+----+-----+-----+-------+--------+------+-----+----------+----+-----------+-----+-----+\n",
      "|survived|pclass|   sex| Age|sibsp|parch|   fare|embarked| class|  who|adult_male|deck|embark_town|alive|alone|\n",
      "+--------+------+------+----+-----+-----+-------+--------+------+-----+----------+----+-----------+-----+-----+\n",
      "|       0|     3|  male|22.0|    1|    0|   7.25|       S| Third|  man|      true|NULL|Southampton|   no|false|\n",
      "|       1|     1|female|38.0|    1|    0|71.2833|       C| First|woman|     false|   C|  Cherbourg|  yes|false|\n",
      "|       1|     3|female|26.0|    0|    0|  7.925|       S| Third|woman|     false|NULL|Southampton|  yes| true|\n",
      "|       1|     1|female|35.0|    1|    0|   53.1|       S| First|woman|     false|   C|Southampton|  yes|false|\n",
      "|       0|     3|  male|35.0|    0|    0|   8.05|       S| Third|  man|      true|NULL|Southampton|   no| true|\n",
      "|       0|     1|  male|54.0|    0|    0|51.8625|       S| First|  man|      true|   E|Southampton|   no| true|\n",
      "|       0|     3|  male| 2.0|    3|    1| 21.075|       S| Third|child|     false|NULL|Southampton|   no|false|\n",
      "|       1|     3|female|27.0|    0|    2|11.1333|       S| Third|woman|     false|NULL|Southampton|  yes|false|\n",
      "|       1|     2|female|14.0|    1|    0|30.0708|       C|Second|child|     false|NULL|  Cherbourg|  yes|false|\n",
      "|       1|     3|female| 4.0|    1|    1|   16.7|       S| Third|child|     false|   G|Southampton|  yes|false|\n",
      "|       1|     1|female|58.0|    0|    0|  26.55|       S| First|woman|     false|   C|Southampton|  yes| true|\n",
      "|       0|     3|  male|20.0|    0|    0|   8.05|       S| Third|  man|      true|NULL|Southampton|   no| true|\n",
      "|       0|     3|  male|39.0|    1|    5| 31.275|       S| Third|  man|      true|NULL|Southampton|   no|false|\n",
      "|       0|     3|female|14.0|    0|    0| 7.8542|       S| Third|child|     false|NULL|Southampton|   no| true|\n",
      "|       1|     2|female|55.0|    0|    0|   16.0|       S|Second|woman|     false|NULL|Southampton|  yes| true|\n",
      "|       0|     3|  male| 2.0|    4|    1| 29.125|       Q| Third|child|     false|NULL| Queenstown|   no|false|\n",
      "|       0|     3|female|31.0|    1|    0|   18.0|       S| Third|woman|     false|NULL|Southampton|   no|false|\n",
      "|       0|     2|  male|35.0|    0|    0|   26.0|       S|Second|  man|      true|NULL|Southampton|   no| true|\n",
      "|       1|     2|  male|34.0|    0|    0|   13.0|       S|Second|  man|      true|   D|Southampton|  yes| true|\n",
      "|       1|     3|female|15.0|    0|    0| 8.0292|       Q| Third|child|     false|NULL| Queenstown|  yes| true|\n",
      "+--------+------+------+----+-----+-----+-------+--------+------+-----+----------+----+-----------+-----+-----+\n",
      "only showing top 20 rows\n",
      "\n"
     ]
    }
   ],
   "source": [
    "# threshold\n",
    "# df_pyspark.na.drop(how='any',thresh=2).show()\n",
    "df_pyspark.na.drop(how='any',subset=['Age']).show() # deletes every null value from age column\n"
   ]
  },
  {
   "cell_type": "code",
   "execution_count": 31,
   "id": "d41c16b9",
   "metadata": {},
   "outputs": [
    {
     "name": "stdout",
     "output_type": "stream",
     "text": [
      "+--------+------+------+----+-----+-----+-------+--------+------+-----+----------+----+-----------+-----+-----+\n",
      "|survived|pclass|   sex| Age|sibsp|parch|   fare|embarked| class|  who|adult_male|deck|embark_town|alive|alone|\n",
      "+--------+------+------+----+-----+-----+-------+--------+------+-----+----------+----+-----------+-----+-----+\n",
      "|       0|     3|  male|22.0|    1|    0|   7.25|       S| Third|  man|      true|NULL|Southampton|   no|false|\n",
      "|       1|     1|female|38.0|    1|    0|71.2833|       C| First|woman|     false|   C|  Cherbourg|  yes|false|\n",
      "|       1|     3|female|26.0|    0|    0|  7.925|       S| Third|woman|     false|NULL|Southampton|  yes| true|\n",
      "|       1|     1|female|35.0|    1|    0|   53.1|       S| First|woman|     false|   C|Southampton|  yes|false|\n",
      "|       0|     3|  male|35.0|    0|    0|   8.05|       S| Third|  man|      true|NULL|Southampton|   no| true|\n",
      "|       0|     3|  male|NULL|    0|    0| 8.4583|       Q| Third|  man|      true|NULL| Queenstown|   no| true|\n",
      "|       0|     1|  male|54.0|    0|    0|51.8625|       S| First|  man|      true|   E|Southampton|   no| true|\n",
      "|       0|     3|  male| 2.0|    3|    1| 21.075|       S| Third|child|     false|NULL|Southampton|   no|false|\n",
      "|       1|     3|female|27.0|    0|    2|11.1333|       S| Third|woman|     false|NULL|Southampton|  yes|false|\n",
      "|       1|     2|female|14.0|    1|    0|30.0708|       C|Second|child|     false|NULL|  Cherbourg|  yes|false|\n",
      "|       1|     3|female| 4.0|    1|    1|   16.7|       S| Third|child|     false|   G|Southampton|  yes|false|\n",
      "|       1|     1|female|58.0|    0|    0|  26.55|       S| First|woman|     false|   C|Southampton|  yes| true|\n",
      "|       0|     3|  male|20.0|    0|    0|   8.05|       S| Third|  man|      true|NULL|Southampton|   no| true|\n",
      "|       0|     3|  male|39.0|    1|    5| 31.275|       S| Third|  man|      true|NULL|Southampton|   no|false|\n",
      "|       0|     3|female|14.0|    0|    0| 7.8542|       S| Third|child|     false|NULL|Southampton|   no| true|\n",
      "|       1|     2|female|55.0|    0|    0|   16.0|       S|Second|woman|     false|NULL|Southampton|  yes| true|\n",
      "|       0|     3|  male| 2.0|    4|    1| 29.125|       Q| Third|child|     false|NULL| Queenstown|   no|false|\n",
      "|       1|     2|  male|NULL|    0|    0|   13.0|       S|Second|  man|      true|NULL|Southampton|  yes| true|\n",
      "|       0|     3|female|31.0|    1|    0|   18.0|       S| Third|woman|     false|NULL|Southampton|   no|false|\n",
      "|       1|     3|female|NULL|    0|    0|  7.225|       C| Third|woman|     false|NULL|  Cherbourg|  yes| true|\n",
      "+--------+------+------+----+-----+-----+-------+--------+------+-----+----------+----+-----------+-----+-----+\n",
      "only showing top 20 rows\n",
      "\n"
     ]
    }
   ],
   "source": [
    "# filling the missing value\n",
    "df_pyspark.na.fill('0','Age').show()"
   ]
  },
  {
   "cell_type": "code",
   "execution_count": 32,
   "id": "e344637a",
   "metadata": {},
   "outputs": [],
   "source": [
    "# # replacing null values with mean value\n",
    "# from pyspark.ml.feature import Imputer\n",
    "\n",
    "# imputer=Imputer(\n",
    "#     inputCols=['Age'],\n",
    "#     outputCols=[\"{}_inputed\".format(c) for c in ['Age']]).setStrategy(\"mean\")"
   ]
  },
  {
   "cell_type": "markdown",
   "id": "3bf30dac",
   "metadata": {},
   "source": [
    "## filtering"
   ]
  },
  {
   "cell_type": "code",
   "execution_count": 33,
   "id": "3b1c6670",
   "metadata": {},
   "outputs": [
    {
     "name": "stdout",
     "output_type": "stream",
     "text": [
      "+--------+------+------+----+-----+-----+-------+--------+------+-----+----------+----+-----------+-----+-----+\n",
      "|survived|pclass|   sex| Age|sibsp|parch|   fare|embarked| class|  who|adult_male|deck|embark_town|alive|alone|\n",
      "+--------+------+------+----+-----+-----+-------+--------+------+-----+----------+----+-----------+-----+-----+\n",
      "|       0|     3|  male| 2.0|    3|    1| 21.075|       S| Third|child|     false|NULL|Southampton|   no|false|\n",
      "|       1|     2|female|14.0|    1|    0|30.0708|       C|Second|child|     false|NULL|  Cherbourg|  yes|false|\n",
      "|       1|     3|female| 4.0|    1|    1|   16.7|       S| Third|child|     false|   G|Southampton|  yes|false|\n",
      "|       0|     3|female|14.0|    0|    0| 7.8542|       S| Third|child|     false|NULL|Southampton|   no| true|\n",
      "|       0|     3|  male| 2.0|    4|    1| 29.125|       Q| Third|child|     false|NULL| Queenstown|   no|false|\n",
      "|       1|     3|female|15.0|    0|    0| 8.0292|       Q| Third|child|     false|NULL| Queenstown|  yes| true|\n",
      "|       0|     3|female| 8.0|    3|    1| 21.075|       S| Third|child|     false|NULL|Southampton|   no|false|\n",
      "|       1|     3|female|14.0|    1|    0|11.2417|       C| Third|child|     false|NULL|  Cherbourg|  yes|false|\n",
      "|       1|     2|female| 3.0|    1|    2|41.5792|       C|Second|child|     false|NULL|  Cherbourg|  yes|false|\n",
      "|       0|     3|  male| 7.0|    4|    1|39.6875|       S| Third|child|     false|NULL|Southampton|   no|false|\n",
      "|       1|     2|female| 5.0|    1|    2|  27.75|       S|Second|child|     false|NULL|Southampton|  yes|false|\n",
      "|       0|     3|  male|11.0|    5|    2|   46.9|       S| Third|child|     false|NULL|Southampton|   no|false|\n",
      "|       0|     3|  male| 4.0|    3|    2|   27.9|       S| Third|child|     false|NULL|Southampton|   no|false|\n",
      "|       1|     3|female|17.0|    4|    2|  7.925|       S| Third|woman|     false|NULL|Southampton|  yes|false|\n",
      "|       0|     3|female|16.0|    5|    2|   46.9|       S| Third|woman|     false|NULL|Southampton|   no|false|\n",
      "|       1|     2|  male|0.83|    0|    2|   29.0|       S|Second|child|     false|NULL|Southampton|  yes|false|\n",
      "|       1|     2|female|17.0|    0|    0|   10.5|       S|Second|woman|     false|NULL|Southampton|  yes| true|\n",
      "|       0|     3|  male|16.0|    1|    3| 34.375|       S| Third|  man|      true|NULL|Southampton|   no|false|\n",
      "|       0|     3|female|14.5|    1|    0|14.4542|       C| Third|child|     false|NULL|  Cherbourg|   no|false|\n",
      "|       0|     3|female|17.0|    0|    0|14.4583|       C| Third|woman|     false|NULL|  Cherbourg|   no| true|\n",
      "+--------+------+------+----+-----+-----+-------+--------+------+-----+----------+----+-----------+-----+-----+\n",
      "only showing top 20 rows\n",
      "\n"
     ]
    }
   ],
   "source": [
    "# age greater than 18 \n",
    "df_pyspark.filter(\"Age<18\").show()"
   ]
  },
  {
   "cell_type": "code",
   "execution_count": 34,
   "id": "832b78d6",
   "metadata": {},
   "outputs": [
    {
     "name": "stdout",
     "output_type": "stream",
     "text": [
      "+--------+----+------+\n",
      "|survived| Age|   sex|\n",
      "+--------+----+------+\n",
      "|       0| 2.0|  male|\n",
      "|       1|14.0|female|\n",
      "|       1| 4.0|female|\n",
      "|       0|14.0|female|\n",
      "|       0| 2.0|  male|\n",
      "|       1|15.0|female|\n",
      "|       0| 8.0|female|\n",
      "|       1|14.0|female|\n",
      "|       1| 3.0|female|\n",
      "|       0| 7.0|  male|\n",
      "|       1| 5.0|female|\n",
      "|       0|11.0|  male|\n",
      "|       0| 4.0|  male|\n",
      "|       1|17.0|female|\n",
      "|       0|16.0|female|\n",
      "|       1|0.83|  male|\n",
      "|       1|17.0|female|\n",
      "|       0|16.0|  male|\n",
      "|       0|14.5|female|\n",
      "|       0|17.0|female|\n",
      "+--------+----+------+\n",
      "only showing top 20 rows\n",
      "\n"
     ]
    }
   ],
   "source": [
    "df_pyspark.filter('Age<18').select(['survived','Age','sex']).show()"
   ]
  },
  {
   "cell_type": "code",
   "execution_count": 35,
   "id": "dc29cd33",
   "metadata": {},
   "outputs": [
    {
     "name": "stdout",
     "output_type": "stream",
     "text": [
      "+----+--------+\n",
      "| Age|survived|\n",
      "+----+--------+\n",
      "|38.0|       1|\n",
      "|26.0|       1|\n",
      "|35.0|       1|\n",
      "|27.0|       1|\n",
      "|14.0|       1|\n",
      "| 4.0|       1|\n",
      "|58.0|       1|\n",
      "|55.0|       1|\n",
      "|NULL|       1|\n",
      "|NULL|       1|\n",
      "|34.0|       1|\n",
      "|15.0|       1|\n",
      "|28.0|       1|\n",
      "|38.0|       1|\n",
      "|NULL|       1|\n",
      "|NULL|       1|\n",
      "|NULL|       1|\n",
      "|NULL|       1|\n",
      "|14.0|       1|\n",
      "| 3.0|       1|\n",
      "+----+--------+\n",
      "only showing top 20 rows\n",
      "\n"
     ]
    }
   ],
   "source": [
    "df_pyspark.filter('Age <= 18' and 'survived > 0').select(['Age','survived']).show()"
   ]
  },
  {
   "cell_type": "code",
   "execution_count": 36,
   "id": "2407b541",
   "metadata": {},
   "outputs": [
    {
     "name": "stdout",
     "output_type": "stream",
     "text": [
      "+--------+------+------+----+-----+-----+--------+--------+------+-----+----------+----+-----------+-----+-----+\n",
      "|survived|pclass|   sex| Age|sibsp|parch|    fare|embarked| class|  who|adult_male|deck|embark_town|alive|alone|\n",
      "+--------+------+------+----+-----+-----+--------+--------+------+-----+----------+----+-----------+-----+-----+\n",
      "|       1|     1|female|38.0|    1|    0| 71.2833|       C| First|woman|     false|   C|  Cherbourg|  yes|false|\n",
      "|       1|     1|female|35.0|    1|    0|    53.1|       S| First|woman|     false|   C|Southampton|  yes|false|\n",
      "|       0|     1|  male|54.0|    0|    0| 51.8625|       S| First|  man|      true|   E|Southampton|   no| true|\n",
      "|       1|     3|female| 4.0|    1|    1|    16.7|       S| Third|child|     false|   G|Southampton|  yes|false|\n",
      "|       1|     1|female|58.0|    0|    0|   26.55|       S| First|woman|     false|   C|Southampton|  yes| true|\n",
      "|       1|     2|  male|34.0|    0|    0|    13.0|       S|Second|  man|      true|   D|Southampton|  yes| true|\n",
      "|       1|     1|  male|28.0|    0|    0|    35.5|       S| First|  man|      true|   A|Southampton|  yes| true|\n",
      "|       0|     1|  male|19.0|    3|    2|   263.0|       S| First|  man|      true|   C|Southampton|   no|false|\n",
      "|       1|     1|female|49.0|    1|    0| 76.7292|       C| First|woman|     false|   D|  Cherbourg|  yes|false|\n",
      "|       0|     1|  male|65.0|    0|    1| 61.9792|       C| First|  man|      true|   B|  Cherbourg|   no|false|\n",
      "|       0|     1|  male|45.0|    1|    0|  83.475|       S| First|  man|      true|   C|Southampton|   no|false|\n",
      "|       1|     2|female|29.0|    0|    0|    10.5|       S|Second|woman|     false|   F|Southampton|  yes| true|\n",
      "|       0|     3|  male|25.0|    0|    0|    7.65|       S| Third|  man|      true|   F|Southampton|   no| true|\n",
      "|       1|     1|female|23.0|    3|    2|   263.0|       S| First|woman|     false|   C|Southampton|  yes|false|\n",
      "|       0|     1|  male|46.0|    1|    0|  61.175|       S| First|  man|      true|   E|Southampton|   no|false|\n",
      "|       0|     1|  male|71.0|    0|    0| 34.6542|       C| First|  man|      true|   A|  Cherbourg|   no| true|\n",
      "|       1|     1|  male|23.0|    0|    1| 63.3583|       C| First|  man|      true|   D|  Cherbourg|  yes|false|\n",
      "|       0|     1|  male|21.0|    0|    1| 77.2875|       S| First|  man|      true|   D|Southampton|   no|false|\n",
      "|       0|     1|  male|47.0|    0|    0|    52.0|       S| First|  man|      true|   C|Southampton|   no| true|\n",
      "|       0|     1|  male|24.0|    0|    1|247.5208|       C| First|  man|      true|   B|  Cherbourg|   no|false|\n",
      "+--------+------+------+----+-----+-----+--------+--------+------+-----+----------+----+-----------+-----+-----+\n",
      "only showing top 20 rows\n",
      "\n"
     ]
    }
   ],
   "source": [
    "df_spark=df_pyspark.na.drop().show()"
   ]
  },
  {
   "cell_type": "code",
   "execution_count": 37,
   "id": "d6653a55",
   "metadata": {},
   "outputs": [
    {
     "name": "stdout",
     "output_type": "stream",
     "text": [
      "+----+--------+----+\n",
      "| Age|survived| sex|\n",
      "+----+--------+----+\n",
      "| 2.0|       0|male|\n",
      "| 2.0|       0|male|\n",
      "| 7.0|       0|male|\n",
      "|11.0|       0|male|\n",
      "| 4.0|       0|male|\n",
      "|0.83|       1|male|\n",
      "|16.0|       0|male|\n",
      "|12.0|       1|male|\n",
      "|16.0|       0|male|\n",
      "|17.0|       0|male|\n",
      "| 1.0|       0|male|\n",
      "| 9.0|       1|male|\n",
      "| 4.0|       0|male|\n",
      "| 9.0|       0|male|\n",
      "| 1.0|       1|male|\n",
      "| 3.0|       1|male|\n",
      "|16.0|       1|male|\n",
      "| 3.0|       1|male|\n",
      "|16.0|       0|male|\n",
      "| 7.0|       0|male|\n",
      "+----+--------+----+\n",
      "only showing top 20 rows\n",
      "\n"
     ]
    }
   ],
   "source": [
    "df_pyspark.filter((df_pyspark['Age'] < 18) & (df_pyspark['sex'] == 'male')).select(['Age','survived','sex']).show()"
   ]
  },
  {
   "cell_type": "code",
   "execution_count": 9,
   "id": "a9c17e1a",
   "metadata": {
    "scrolled": true
   },
   "outputs": [
    {
     "data": {
      "text/html": [
       "\n",
       "            <div>\n",
       "                <p><b>SparkSession - in-memory</b></p>\n",
       "                \n",
       "        <div>\n",
       "            <p><b>SparkContext</b></p>\n",
       "\n",
       "            <p><a href=\"http://DESKTOP-GSOUFU5:4040\">Spark UI</a></p>\n",
       "\n",
       "            <dl>\n",
       "              <dt>Version</dt>\n",
       "                <dd><code>v3.5.3</code></dd>\n",
       "              <dt>Master</dt>\n",
       "                <dd><code>local[*]</code></dd>\n",
       "              <dt>AppName</dt>\n",
       "                <dd><code>Practice</code></dd>\n",
       "            </dl>\n",
       "        </div>\n",
       "        \n",
       "            </div>\n",
       "        "
      ],
      "text/plain": [
       "<pyspark.sql.session.SparkSession at 0x1c6cab4ec90>"
      ]
     },
     "execution_count": 9,
     "metadata": {},
     "output_type": "execute_result"
    }
   ],
   "source": [
    "sp=SparkSession.builder.appName('agg').getOrCreate()\n",
    "sp"
   ]
  },
  {
   "cell_type": "code",
   "execution_count": 14,
   "id": "e0025379",
   "metadata": {},
   "outputs": [
    {
     "name": "stdout",
     "output_type": "stream",
     "text": [
      "+---------+--------+------+-----+-----+----+---+\n",
      "|Firstname|Lastname|Gender| SPOS|DSBDA|  WT| DA|\n",
      "+---------+--------+------+-----+-----+----+---+\n",
      "|       LA|     Roy|     M| 85.0|   88|  90| 92|\n",
      "|       SA|   Dixit|     F| 90.0|   90|  94| 95|\n",
      "|       AB|  Danial|     M|  NaN|   na| 100| 80|\n",
      "|       DA|  Kapoor|     M| 95.0|   86| 500| 82|\n",
      "|       SA|     Jha|     F|  NaN|   84|  98| 84|\n",
      "|       WS|  Thakur|     F| 87.0|  NaN|  97| 86|\n",
      "|       DY|  Kapoor|     M| 81.0|   80|  96| 89|\n",
      "|       JK|  Khanna|     F| 40.0|   88|  95| 87|\n",
      "|       RT| Pardesi|     M| 10.0|   96|  94| 88|\n",
      "|       UV| Pardesi|     M|  9.0|   NA|  93| 96|\n",
      "|       MN|   Desai|     F|200.0|   87|NULL|N.A|\n",
      "|       BC|   Patel|     F|300.0|  N/A|  88|300|\n",
      "+---------+--------+------+-----+-----+----+---+\n",
      "\n"
     ]
    }
   ],
   "source": [
    "df=sp.read.csv('academic_data.csv',header=True,inferSchema=True)\n",
    "df.show()"
   ]
  },
  {
   "cell_type": "code",
   "execution_count": 10,
   "id": "72b4ee8c",
   "metadata": {},
   "outputs": [
    {
     "name": "stdout",
     "output_type": "stream",
     "text": [
      "+---------+--------+------+-----+-----+---+---+\n",
      "|Firstname|Lastname|Gender| SPOS|DSBDA| WT| DA|\n",
      "+---------+--------+------+-----+-----+---+---+\n",
      "|       LA|     Roy|     M| 85.0|   88| 90| 92|\n",
      "|       SA|   Dixit|     F| 90.0|   90| 94| 95|\n",
      "|       AB|  Danial|     M|  0.0|   na|100| 80|\n",
      "|       DA|  Kapoor|     M| 95.0|   86|500| 82|\n",
      "|       SA|     Jha|     F|  0.0|   84| 98| 84|\n",
      "|       WS|  Thakur|     F| 87.0|  NaN| 97| 86|\n",
      "|       DY|  Kapoor|     M| 81.0|   80| 96| 89|\n",
      "|       JK|  Khanna|     F| 40.0|   88| 95| 87|\n",
      "|       RT| Pardesi|     M| 10.0|   96| 94| 88|\n",
      "|       UV| Pardesi|     M|  9.0|   NA| 93| 96|\n",
      "|       MN|   Desai|     F|200.0|   87|  0|N.A|\n",
      "|       BC|   Patel|     F|300.0|  N/A| 88|300|\n",
      "+---------+--------+------+-----+-----+---+---+\n",
      "\n"
     ]
    }
   ],
   "source": [
    "df=df.fillna(0).show()"
   ]
  },
  {
   "cell_type": "code",
   "execution_count": 21,
   "id": "cf8b24e1",
   "metadata": {},
   "outputs": [
    {
     "name": "stdout",
     "output_type": "stream",
     "text": [
      "+---------+---------+-------+\n",
      "|Firstname|sum(SPOS)|sum(WT)|\n",
      "+---------+---------+-------+\n",
      "|       LA|     85.0|     90|\n",
      "|       MN|    200.0|   NULL|\n",
      "|       UV|      9.0|     93|\n",
      "|       BC|    300.0|     88|\n",
      "|       SA|      NaN|    192|\n",
      "|       DY|     81.0|     96|\n",
      "|       DA|     95.0|    500|\n",
      "|       WS|     87.0|     97|\n",
      "|       AB|      NaN|    100|\n",
      "|       JK|     40.0|     95|\n",
      "|       RT|     10.0|     94|\n",
      "+---------+---------+-------+\n",
      "\n"
     ]
    }
   ],
   "source": [
    "#groupby\n",
    "df.groupby('Firstname').sum().show() # will be applied only if the table is normalized or is in 1nf "
   ]
  },
  {
   "cell_type": "code",
   "execution_count": 22,
   "id": "f200d79a",
   "metadata": {},
   "outputs": [
    {
     "name": "stdout",
     "output_type": "stream",
     "text": [
      "+--------+---------+-------+\n",
      "|Lastname|max(SPOS)|max(WT)|\n",
      "+--------+---------+-------+\n",
      "|     Roy|     85.0|     90|\n",
      "|   Desai|    200.0|   NULL|\n",
      "|     Jha|      NaN|     98|\n",
      "|  Danial|      NaN|    100|\n",
      "|  Khanna|     40.0|     95|\n",
      "| Pardesi|     10.0|     94|\n",
      "|  Kapoor|     95.0|    500|\n",
      "|   Dixit|     90.0|     94|\n",
      "|   Patel|    300.0|     88|\n",
      "|  Thakur|     87.0|     97|\n",
      "+--------+---------+-------+\n",
      "\n"
     ]
    }
   ],
   "source": [
    "df.groupby('Lastname').max().show()"
   ]
  },
  {
   "cell_type": "code",
   "execution_count": 24,
   "id": "a5f0bfc0",
   "metadata": {},
   "outputs": [
    {
     "name": "stdout",
     "output_type": "stream",
     "text": [
      "+-------+\n",
      "|sum(WT)|\n",
      "+-------+\n",
      "|   1445|\n",
      "+-------+\n",
      "\n"
     ]
    }
   ],
   "source": [
    "df.agg({'WT':'sum'}).show()"
   ]
  },
  {
   "cell_type": "code",
   "execution_count": null,
   "id": "3689c386",
   "metadata": {},
   "outputs": [],
   "source": []
  },
  {
   "cell_type": "code",
   "execution_count": null,
   "id": "e942fe89",
   "metadata": {},
   "outputs": [],
   "source": []
  },
  {
   "cell_type": "code",
   "execution_count": null,
   "id": "9b24e278",
   "metadata": {},
   "outputs": [],
   "source": []
  }
 ],
 "metadata": {
  "kernelspec": {
   "display_name": "Python 3 (ipykernel)",
   "language": "python",
   "name": "python3"
  },
  "language_info": {
   "codemirror_mode": {
    "name": "ipython",
    "version": 3
   },
   "file_extension": ".py",
   "mimetype": "text/x-python",
   "name": "python",
   "nbconvert_exporter": "python",
   "pygments_lexer": "ipython3",
   "version": "3.11.4"
  }
 },
 "nbformat": 4,
 "nbformat_minor": 5
}
